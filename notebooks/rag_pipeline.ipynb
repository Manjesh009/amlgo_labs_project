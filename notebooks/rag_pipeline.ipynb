{
  "cells": [
    {
      "cell_type": "code",
      "execution_count": 1,
      "metadata": {
        "colab": {
          "base_uri": "https://localhost:8080/"
        },
        "id": "iCsN4L0Mst_e",
        "outputId": "9b7fbecf-f1d5-4a32-8a6a-6742c6c1f19c"
      },
      "outputs": [
        {
          "name": "stdout",
          "output_type": "stream",
          "text": [
            "Requirement already satisfied: langchain in d:\\amlgo_project\\amlgo\\lib\\site-packages (0.3.27)\n",
            "Requirement already satisfied: langchain-community in d:\\amlgo_project\\amlgo\\lib\\site-packages (0.3.27)\n",
            "Requirement already satisfied: langchain-chroma in d:\\amlgo_project\\amlgo\\lib\\site-packages (0.2.5)\n",
            "Requirement already satisfied: langchain-huggingface in d:\\amlgo_project\\amlgo\\lib\\site-packages (0.3.1)\n",
            "Requirement already satisfied: langchain-ollama in d:\\amlgo_project\\amlgo\\lib\\site-packages (0.3.6)\n",
            "Requirement already satisfied: chromadb in d:\\amlgo_project\\amlgo\\lib\\site-packages (1.0.15)\n",
            "Requirement already satisfied: sentence-transformers in d:\\amlgo_project\\amlgo\\lib\\site-packages (5.0.0)\n",
            "Requirement already satisfied: transformers in d:\\amlgo_project\\amlgo\\lib\\site-packages (4.54.0)\n",
            "Requirement already satisfied: python-dotenv in d:\\amlgo_project\\amlgo\\lib\\site-packages (1.1.1)\n",
            "Requirement already satisfied: tqdm in d:\\amlgo_project\\amlgo\\lib\\site-packages (4.67.1)\n",
            "Requirement already satisfied: langchain-text-splitters<1.0.0,>=0.3.9 in d:\\amlgo_project\\amlgo\\lib\\site-packages (from langchain) (0.3.9)\n",
            "Requirement already satisfied: SQLAlchemy<3,>=1.4 in d:\\amlgo_project\\amlgo\\lib\\site-packages (from langchain) (2.0.41)\n",
            "Requirement already satisfied: langchain-core<1.0.0,>=0.3.72 in d:\\amlgo_project\\amlgo\\lib\\site-packages (from langchain) (0.3.72)\n",
            "Requirement already satisfied: pydantic<3.0.0,>=2.7.4 in d:\\amlgo_project\\amlgo\\lib\\site-packages (from langchain) (2.11.7)\n",
            "Requirement already satisfied: langsmith>=0.1.17 in d:\\amlgo_project\\amlgo\\lib\\site-packages (from langchain) (0.4.8)\n",
            "Requirement already satisfied: PyYAML>=5.3 in d:\\amlgo_project\\amlgo\\lib\\site-packages (from langchain) (6.0.2)\n",
            "Requirement already satisfied: requests<3,>=2 in d:\\amlgo_project\\amlgo\\lib\\site-packages (from langchain) (2.32.4)\n",
            "Requirement already satisfied: async-timeout<5.0.0,>=4.0.0 in d:\\amlgo_project\\amlgo\\lib\\site-packages (from langchain) (4.0.3)\n",
            "Requirement already satisfied: pydantic-settings<3.0.0,>=2.4.0 in d:\\amlgo_project\\amlgo\\lib\\site-packages (from langchain-community) (2.10.1)\n",
            "Requirement already satisfied: tenacity!=8.4.0,<10,>=8.1.0 in d:\\amlgo_project\\amlgo\\lib\\site-packages (from langchain-community) (9.1.2)\n",
            "Requirement already satisfied: dataclasses-json<0.7,>=0.5.7 in d:\\amlgo_project\\amlgo\\lib\\site-packages (from langchain-community) (0.6.7)\n",
            "Requirement already satisfied: numpy>=1.26.2 in d:\\amlgo_project\\amlgo\\lib\\site-packages (from langchain-community) (2.0.2)\n",
            "Requirement already satisfied: aiohttp<4.0.0,>=3.8.3 in d:\\amlgo_project\\amlgo\\lib\\site-packages (from langchain-community) (3.12.14)\n",
            "Requirement already satisfied: httpx-sse<1.0.0,>=0.4.0 in d:\\amlgo_project\\amlgo\\lib\\site-packages (from langchain-community) (0.4.1)\n",
            "Requirement already satisfied: tokenizers>=0.19.1 in d:\\amlgo_project\\amlgo\\lib\\site-packages (from langchain-huggingface) (0.21.2)\n",
            "Requirement already satisfied: huggingface-hub>=0.33.4 in d:\\amlgo_project\\amlgo\\lib\\site-packages (from langchain-huggingface) (0.34.1)\n",
            "Requirement already satisfied: ollama<1.0.0,>=0.5.1 in d:\\amlgo_project\\amlgo\\lib\\site-packages (from langchain-ollama) (0.5.1)\n",
            "Requirement already satisfied: opentelemetry-api>=1.2.0 in d:\\amlgo_project\\amlgo\\lib\\site-packages (from chromadb) (1.35.0)\n",
            "Requirement already satisfied: opentelemetry-sdk>=1.2.0 in d:\\amlgo_project\\amlgo\\lib\\site-packages (from chromadb) (1.35.0)\n",
            "Requirement already satisfied: mmh3>=4.0.1 in d:\\amlgo_project\\amlgo\\lib\\site-packages (from chromadb) (5.1.0)\n",
            "Requirement already satisfied: bcrypt>=4.0.1 in d:\\amlgo_project\\amlgo\\lib\\site-packages (from chromadb) (4.3.0)\n",
            "Requirement already satisfied: overrides>=7.3.1 in d:\\amlgo_project\\amlgo\\lib\\site-packages (from chromadb) (7.7.0)\n",
            "Requirement already satisfied: typing-extensions>=4.5.0 in d:\\amlgo_project\\amlgo\\lib\\site-packages (from chromadb) (4.14.1)\n",
            "Requirement already satisfied: opentelemetry-exporter-otlp-proto-grpc>=1.2.0 in d:\\amlgo_project\\amlgo\\lib\\site-packages (from chromadb) (1.35.0)\n",
            "Requirement already satisfied: rich>=10.11.0 in d:\\amlgo_project\\amlgo\\lib\\site-packages (from chromadb) (14.1.0)\n",
            "Requirement already satisfied: posthog<6.0.0,>=2.4.0 in d:\\amlgo_project\\amlgo\\lib\\site-packages (from chromadb) (5.4.0)\n",
            "Requirement already satisfied: grpcio>=1.58.0 in d:\\amlgo_project\\amlgo\\lib\\site-packages (from chromadb) (1.74.0)\n",
            "Requirement already satisfied: kubernetes>=28.1.0 in d:\\amlgo_project\\amlgo\\lib\\site-packages (from chromadb) (33.1.0)\n",
            "Requirement already satisfied: onnxruntime>=1.14.1 in d:\\amlgo_project\\amlgo\\lib\\site-packages (from chromadb) (1.19.2)\n",
            "Requirement already satisfied: pybase64>=1.4.1 in d:\\amlgo_project\\amlgo\\lib\\site-packages (from chromadb) (1.4.1)\n",
            "Requirement already satisfied: typer>=0.9.0 in d:\\amlgo_project\\amlgo\\lib\\site-packages (from chromadb) (0.16.0)\n",
            "Requirement already satisfied: jsonschema>=4.19.0 in d:\\amlgo_project\\amlgo\\lib\\site-packages (from chromadb) (4.25.0)\n",
            "Requirement already satisfied: orjson>=3.9.12 in d:\\amlgo_project\\amlgo\\lib\\site-packages (from chromadb) (3.11.1)\n",
            "Requirement already satisfied: importlib-resources in d:\\amlgo_project\\amlgo\\lib\\site-packages (from chromadb) (6.5.2)\n",
            "Requirement already satisfied: httpx>=0.27.0 in d:\\amlgo_project\\amlgo\\lib\\site-packages (from chromadb) (0.28.1)\n",
            "Requirement already satisfied: build>=1.0.3 in d:\\amlgo_project\\amlgo\\lib\\site-packages (from chromadb) (1.2.2.post1)\n",
            "Requirement already satisfied: uvicorn[standard]>=0.18.3 in d:\\amlgo_project\\amlgo\\lib\\site-packages (from chromadb) (0.35.0)\n",
            "Requirement already satisfied: pypika>=0.48.9 in d:\\amlgo_project\\amlgo\\lib\\site-packages (from chromadb) (0.48.9)\n",
            "Requirement already satisfied: scikit-learn in d:\\amlgo_project\\amlgo\\lib\\site-packages (from sentence-transformers) (1.6.1)\n",
            "Requirement already satisfied: Pillow in d:\\amlgo_project\\amlgo\\lib\\site-packages (from sentence-transformers) (11.3.0)\n",
            "Requirement already satisfied: scipy in d:\\amlgo_project\\amlgo\\lib\\site-packages (from sentence-transformers) (1.13.1)\n",
            "Requirement already satisfied: torch>=1.11.0 in d:\\amlgo_project\\amlgo\\lib\\site-packages (from sentence-transformers) (2.7.1)\n",
            "Requirement already satisfied: packaging>=20.0 in d:\\amlgo_project\\amlgo\\lib\\site-packages (from transformers) (25.0)\n",
            "Requirement already satisfied: regex!=2019.12.17 in d:\\amlgo_project\\amlgo\\lib\\site-packages (from transformers) (2024.11.6)\n",
            "Requirement already satisfied: filelock in d:\\amlgo_project\\amlgo\\lib\\site-packages (from transformers) (3.18.0)\n",
            "Requirement already satisfied: safetensors>=0.4.3 in d:\\amlgo_project\\amlgo\\lib\\site-packages (from transformers) (0.5.3)\n",
            "Requirement already satisfied: colorama in d:\\amlgo_project\\amlgo\\lib\\site-packages (from tqdm) (0.4.6)\n",
            "Requirement already satisfied: frozenlist>=1.1.1 in d:\\amlgo_project\\amlgo\\lib\\site-packages (from aiohttp<4.0.0,>=3.8.3->langchain-community) (1.7.0)\n",
            "Requirement already satisfied: attrs>=17.3.0 in d:\\amlgo_project\\amlgo\\lib\\site-packages (from aiohttp<4.0.0,>=3.8.3->langchain-community) (25.3.0)\n",
            "Requirement already satisfied: multidict<7.0,>=4.5 in d:\\amlgo_project\\amlgo\\lib\\site-packages (from aiohttp<4.0.0,>=3.8.3->langchain-community) (6.6.3)\n",
            "Requirement already satisfied: propcache>=0.2.0 in d:\\amlgo_project\\amlgo\\lib\\site-packages (from aiohttp<4.0.0,>=3.8.3->langchain-community) (0.3.2)\n",
            "Requirement already satisfied: aiohappyeyeballs>=2.5.0 in d:\\amlgo_project\\amlgo\\lib\\site-packages (from aiohttp<4.0.0,>=3.8.3->langchain-community) (2.6.1)\n",
            "Requirement already satisfied: aiosignal>=1.4.0 in d:\\amlgo_project\\amlgo\\lib\\site-packages (from aiohttp<4.0.0,>=3.8.3->langchain-community) (1.4.0)\n",
            "Requirement already satisfied: yarl<2.0,>=1.17.0 in d:\\amlgo_project\\amlgo\\lib\\site-packages (from aiohttp<4.0.0,>=3.8.3->langchain-community) (1.20.1)\n",
            "Requirement already satisfied: pyproject_hooks in d:\\amlgo_project\\amlgo\\lib\\site-packages (from build>=1.0.3->chromadb) (1.2.0)\n",
            "Requirement already satisfied: importlib-metadata>=4.6 in d:\\amlgo_project\\amlgo\\lib\\site-packages (from build>=1.0.3->chromadb) (8.7.0)\n",
            "Requirement already satisfied: tomli>=1.1.0 in d:\\amlgo_project\\amlgo\\lib\\site-packages (from build>=1.0.3->chromadb) (2.2.1)\n",
            "Requirement already satisfied: typing-inspect<1,>=0.4.0 in d:\\amlgo_project\\amlgo\\lib\\site-packages (from dataclasses-json<0.7,>=0.5.7->langchain-community) (0.9.0)\n",
            "Requirement already satisfied: marshmallow<4.0.0,>=3.18.0 in d:\\amlgo_project\\amlgo\\lib\\site-packages (from dataclasses-json<0.7,>=0.5.7->langchain-community) (3.26.1)\n",
            "Requirement already satisfied: idna in d:\\amlgo_project\\amlgo\\lib\\site-packages (from httpx>=0.27.0->chromadb) (3.10)\n",
            "Requirement already satisfied: anyio in d:\\amlgo_project\\amlgo\\lib\\site-packages (from httpx>=0.27.0->chromadb) (4.9.0)\n",
            "Requirement already satisfied: httpcore==1.* in d:\\amlgo_project\\amlgo\\lib\\site-packages (from httpx>=0.27.0->chromadb) (1.0.9)\n",
            "Requirement already satisfied: certifi in d:\\amlgo_project\\amlgo\\lib\\site-packages (from httpx>=0.27.0->chromadb) (2025.7.14)\n",
            "Requirement already satisfied: h11>=0.16 in d:\\amlgo_project\\amlgo\\lib\\site-packages (from httpcore==1.*->httpx>=0.27.0->chromadb) (0.16.0)\n",
            "Requirement already satisfied: fsspec>=2023.5.0 in d:\\amlgo_project\\amlgo\\lib\\site-packages (from huggingface-hub>=0.33.4->langchain-huggingface) (2025.7.0)\n",
            "Requirement already satisfied: jsonschema-specifications>=2023.03.6 in d:\\amlgo_project\\amlgo\\lib\\site-packages (from jsonschema>=4.19.0->chromadb) (2025.4.1)\n",
            "Requirement already satisfied: rpds-py>=0.7.1 in d:\\amlgo_project\\amlgo\\lib\\site-packages (from jsonschema>=4.19.0->chromadb) (0.26.0)\n",
            "Requirement already satisfied: referencing>=0.28.4 in d:\\amlgo_project\\amlgo\\lib\\site-packages (from jsonschema>=4.19.0->chromadb) (0.36.2)\n",
            "Requirement already satisfied: websocket-client!=0.40.0,!=0.41.*,!=0.42.*,>=0.32.0 in d:\\amlgo_project\\amlgo\\lib\\site-packages (from kubernetes>=28.1.0->chromadb) (1.8.0)\n",
            "Requirement already satisfied: python-dateutil>=2.5.3 in d:\\amlgo_project\\amlgo\\lib\\site-packages (from kubernetes>=28.1.0->chromadb) (2.9.0.post0)\n",
            "Requirement already satisfied: requests-oauthlib in d:\\amlgo_project\\amlgo\\lib\\site-packages (from kubernetes>=28.1.0->chromadb) (2.0.0)\n",
            "Requirement already satisfied: durationpy>=0.7 in d:\\amlgo_project\\amlgo\\lib\\site-packages (from kubernetes>=28.1.0->chromadb) (0.10)\n",
            "Requirement already satisfied: google-auth>=1.0.1 in d:\\amlgo_project\\amlgo\\lib\\site-packages (from kubernetes>=28.1.0->chromadb) (2.40.3)\n",
            "Requirement already satisfied: urllib3>=1.24.2 in d:\\amlgo_project\\amlgo\\lib\\site-packages (from kubernetes>=28.1.0->chromadb) (2.5.0)\n",
            "Requirement already satisfied: oauthlib>=3.2.2 in d:\\amlgo_project\\amlgo\\lib\\site-packages (from kubernetes>=28.1.0->chromadb) (3.3.1)\n",
            "Requirement already satisfied: six>=1.9.0 in d:\\amlgo_project\\amlgo\\lib\\site-packages (from kubernetes>=28.1.0->chromadb) (1.17.0)\n",
            "Requirement already satisfied: jsonpatch<2.0,>=1.33 in d:\\amlgo_project\\amlgo\\lib\\site-packages (from langchain-core<1.0.0,>=0.3.72->langchain) (1.33)\n",
            "Requirement already satisfied: requests-toolbelt<2.0.0,>=1.0.0 in d:\\amlgo_project\\amlgo\\lib\\site-packages (from langsmith>=0.1.17->langchain) (1.0.0)\n",
            "Requirement already satisfied: zstandard<0.24.0,>=0.23.0 in d:\\amlgo_project\\amlgo\\lib\\site-packages (from langsmith>=0.1.17->langchain) (0.23.0)\n",
            "Requirement already satisfied: protobuf in d:\\amlgo_project\\amlgo\\lib\\site-packages (from onnxruntime>=1.14.1->chromadb) (6.31.1)\n",
            "Requirement already satisfied: coloredlogs in d:\\amlgo_project\\amlgo\\lib\\site-packages (from onnxruntime>=1.14.1->chromadb) (15.0.1)\n",
            "Requirement already satisfied: sympy in d:\\amlgo_project\\amlgo\\lib\\site-packages (from onnxruntime>=1.14.1->chromadb) (1.14.0)\n",
            "Requirement already satisfied: flatbuffers in d:\\amlgo_project\\amlgo\\lib\\site-packages (from onnxruntime>=1.14.1->chromadb) (25.2.10)\n",
            "Requirement already satisfied: opentelemetry-proto==1.35.0 in d:\\amlgo_project\\amlgo\\lib\\site-packages (from opentelemetry-exporter-otlp-proto-grpc>=1.2.0->chromadb) (1.35.0)\n",
            "Requirement already satisfied: opentelemetry-exporter-otlp-proto-common==1.35.0 in d:\\amlgo_project\\amlgo\\lib\\site-packages (from opentelemetry-exporter-otlp-proto-grpc>=1.2.0->chromadb) (1.35.0)\n",
            "Requirement already satisfied: googleapis-common-protos~=1.57 in d:\\amlgo_project\\amlgo\\lib\\site-packages (from opentelemetry-exporter-otlp-proto-grpc>=1.2.0->chromadb) (1.70.0)\n",
            "Requirement already satisfied: opentelemetry-semantic-conventions==0.56b0 in d:\\amlgo_project\\amlgo\\lib\\site-packages (from opentelemetry-sdk>=1.2.0->chromadb) (0.56b0)\n",
            "Requirement already satisfied: backoff>=1.10.0 in d:\\amlgo_project\\amlgo\\lib\\site-packages (from posthog<6.0.0,>=2.4.0->chromadb) (2.2.1)\n",
            "Requirement already satisfied: distro>=1.5.0 in d:\\amlgo_project\\amlgo\\lib\\site-packages (from posthog<6.0.0,>=2.4.0->chromadb) (1.9.0)\n",
            "Requirement already satisfied: pydantic-core==2.33.2 in d:\\amlgo_project\\amlgo\\lib\\site-packages (from pydantic<3.0.0,>=2.7.4->langchain) (2.33.2)\n",
            "Requirement already satisfied: annotated-types>=0.6.0 in d:\\amlgo_project\\amlgo\\lib\\site-packages (from pydantic<3.0.0,>=2.7.4->langchain) (0.7.0)\n",
            "Requirement already satisfied: typing-inspection>=0.4.0 in d:\\amlgo_project\\amlgo\\lib\\site-packages (from pydantic<3.0.0,>=2.7.4->langchain) (0.4.1)\n",
            "Requirement already satisfied: charset_normalizer<4,>=2 in d:\\amlgo_project\\amlgo\\lib\\site-packages (from requests<3,>=2->langchain) (3.4.2)\n",
            "Requirement already satisfied: pygments<3.0.0,>=2.13.0 in d:\\amlgo_project\\amlgo\\lib\\site-packages (from rich>=10.11.0->chromadb) (2.19.2)\n",
            "Requirement already satisfied: markdown-it-py>=2.2.0 in d:\\amlgo_project\\amlgo\\lib\\site-packages (from rich>=10.11.0->chromadb) (3.0.0)\n",
            "Requirement already satisfied: greenlet>=1 in d:\\amlgo_project\\amlgo\\lib\\site-packages (from SQLAlchemy<3,>=1.4->langchain) (3.2.3)\n",
            "Requirement already satisfied: networkx in d:\\amlgo_project\\amlgo\\lib\\site-packages (from torch>=1.11.0->sentence-transformers) (3.2.1)\n",
            "Requirement already satisfied: jinja2 in d:\\amlgo_project\\amlgo\\lib\\site-packages (from torch>=1.11.0->sentence-transformers) (3.1.6)\n",
            "Requirement already satisfied: click>=8.0.0 in d:\\amlgo_project\\amlgo\\lib\\site-packages (from typer>=0.9.0->chromadb) (8.1.8)\n",
            "Requirement already satisfied: shellingham>=1.3.0 in d:\\amlgo_project\\amlgo\\lib\\site-packages (from typer>=0.9.0->chromadb) (1.5.4)\n",
            "Requirement already satisfied: websockets>=10.4 in d:\\amlgo_project\\amlgo\\lib\\site-packages (from uvicorn[standard]>=0.18.3->chromadb) (15.0.1)\n",
            "Requirement already satisfied: watchfiles>=0.13 in d:\\amlgo_project\\amlgo\\lib\\site-packages (from uvicorn[standard]>=0.18.3->chromadb) (1.1.0)\n",
            "Requirement already satisfied: httptools>=0.6.3 in d:\\amlgo_project\\amlgo\\lib\\site-packages (from uvicorn[standard]>=0.18.3->chromadb) (0.6.4)\n",
            "Requirement already satisfied: zipp>=3.1.0 in d:\\amlgo_project\\amlgo\\lib\\site-packages (from importlib-resources->chromadb) (3.23.0)\n",
            "Requirement already satisfied: threadpoolctl>=3.1.0 in d:\\amlgo_project\\amlgo\\lib\\site-packages (from scikit-learn->sentence-transformers) (3.6.0)\n",
            "Requirement already satisfied: joblib>=1.2.0 in d:\\amlgo_project\\amlgo\\lib\\site-packages (from scikit-learn->sentence-transformers) (1.5.1)\n",
            "Requirement already satisfied: rsa<5,>=3.1.4 in d:\\amlgo_project\\amlgo\\lib\\site-packages (from google-auth>=1.0.1->kubernetes>=28.1.0->chromadb) (4.9.1)\n",
            "Requirement already satisfied: cachetools<6.0,>=2.0.0 in d:\\amlgo_project\\amlgo\\lib\\site-packages (from google-auth>=1.0.1->kubernetes>=28.1.0->chromadb) (5.5.2)\n",
            "Requirement already satisfied: pyasn1-modules>=0.2.1 in d:\\amlgo_project\\amlgo\\lib\\site-packages (from google-auth>=1.0.1->kubernetes>=28.1.0->chromadb) (0.4.2)\n",
            "Requirement already satisfied: jsonpointer>=1.9 in d:\\amlgo_project\\amlgo\\lib\\site-packages (from jsonpatch<2.0,>=1.33->langchain-core<1.0.0,>=0.3.72->langchain) (3.0.0)\n",
            "Requirement already satisfied: mdurl~=0.1 in d:\\amlgo_project\\amlgo\\lib\\site-packages (from markdown-it-py>=2.2.0->rich>=10.11.0->chromadb) (0.1.2)\n",
            "Requirement already satisfied: mpmath<1.4,>=1.1.0 in d:\\amlgo_project\\amlgo\\lib\\site-packages (from sympy->onnxruntime>=1.14.1->chromadb) (1.3.0)\n",
            "Requirement already satisfied: mypy-extensions>=0.3.0 in d:\\amlgo_project\\amlgo\\lib\\site-packages (from typing-inspect<1,>=0.4.0->dataclasses-json<0.7,>=0.5.7->langchain-community) (1.1.0)\n",
            "Requirement already satisfied: exceptiongroup>=1.0.2 in d:\\amlgo_project\\amlgo\\lib\\site-packages (from anyio->httpx>=0.27.0->chromadb) (1.3.0)\n",
            "Requirement already satisfied: sniffio>=1.1 in d:\\amlgo_project\\amlgo\\lib\\site-packages (from anyio->httpx>=0.27.0->chromadb) (1.3.1)\n",
            "Requirement already satisfied: humanfriendly>=9.1 in d:\\amlgo_project\\amlgo\\lib\\site-packages (from coloredlogs->onnxruntime>=1.14.1->chromadb) (10.0)\n",
            "Requirement already satisfied: MarkupSafe>=2.0 in d:\\amlgo_project\\amlgo\\lib\\site-packages (from jinja2->torch>=1.11.0->sentence-transformers) (3.0.2)\n",
            "Requirement already satisfied: pyreadline3 in d:\\amlgo_project\\amlgo\\lib\\site-packages (from humanfriendly>=9.1->coloredlogs->onnxruntime>=1.14.1->chromadb) (3.5.4)\n",
            "Requirement already satisfied: pyasn1<0.7.0,>=0.6.1 in d:\\amlgo_project\\amlgo\\lib\\site-packages (from pyasn1-modules>=0.2.1->google-auth>=1.0.1->kubernetes>=28.1.0->chromadb) (0.6.1)\n"
          ]
        },
        {
          "name": "stderr",
          "output_type": "stream",
          "text": [
            "WARNING: You are using pip version 22.0.4; however, version 25.1.1 is available.\n",
            "You should consider upgrading via the 'D:\\amlgo_project\\amlgo\\Scripts\\python.exe -m pip install --upgrade pip' command.\n"
          ]
        }
      ],
      "source": [
        "!pip install langchain langchain-community langchain-chroma \\\n",
        "langchain-huggingface langchain-ollama chromadb \\\n",
        "sentence-transformers transformers python-dotenv tqdm"
      ]
    },
    {
      "cell_type": "code",
      "execution_count": 11,
      "metadata": {
        "id": "EpxIKOIWw_cm"
      },
      "outputs": [],
      "source": [
        "from pathlib import Path\n",
        "\n",
        "PDF_PATH = Path(\"AI Training Document.pdf\")\n",
        "CHROMA_PATH = Path(\"vectordb2\")\n",
        "CHUNKS_JSON = Path(\"chunks/document_chunks.json\")\n",
        "\n",
        "EMBED_MODEL = \"sentence-transformers/all-MiniLM-L6-v2\"\n",
        "CHUNK_SIZE = 800\n",
        "CHUNK_OVERLAP = 100\n",
        "TOP_K = 3\n"
      ]
    },
    {
      "cell_type": "code",
      "execution_count": 12,
      "metadata": {
        "colab": {
          "base_uri": "https://localhost:8080/"
        },
        "id": "q9paSyDxyVgO",
        "outputId": "f0f19dba-3ef9-45b6-f35c-767e9125080d"
      },
      "outputs": [
        {
          "name": "stdout",
          "output_type": "stream",
          "text": [
            "Requirement already satisfied: pymupdf in d:\\amlgo_project\\amlgo\\lib\\site-packages (1.26.3)\n"
          ]
        },
        {
          "name": "stderr",
          "output_type": "stream",
          "text": [
            "WARNING: You are using pip version 22.0.4; however, version 25.1.1 is available.\n",
            "You should consider upgrading via the 'D:\\amlgo_project\\amlgo\\Scripts\\python.exe -m pip install --upgrade pip' command.\n"
          ]
        }
      ],
      "source": [
        "!pip install pymupdf"
      ]
    },
    {
      "cell_type": "code",
      "execution_count": 13,
      "metadata": {
        "colab": {
          "base_uri": "https://localhost:8080/"
        },
        "id": "DAt3vOHdxvBr",
        "outputId": "643d5b42-f77a-4c70-f70d-6caf069686bb"
      },
      "outputs": [
        {
          "name": "stdout",
          "output_type": "stream",
          "text": [
            "Pages detected: 20\n",
            "Chunks created: 106\n",
            "📂 Chunks saved to chunks\\document_chunks.json\n"
          ]
        },
        {
          "name": "stderr",
          "output_type": "stream",
          "text": [
            "d:\\amlgo_project\\amlgo\\lib\\site-packages\\tqdm\\auto.py:21: TqdmWarning: IProgress not found. Please update jupyter and ipywidgets. See https://ipywidgets.readthedocs.io/en/stable/user_install.html\n",
            "  from .autonotebook import tqdm as notebook_tqdm\n",
            "d:\\amlgo_project\\amlgo\\lib\\site-packages\\torch\\nn\\modules\\module.py:1762: FutureWarning: `encoder_attention_mask` is deprecated and will be removed in version 4.55.0 for `BertSdpaSelfAttention.forward`.\n",
            "  return forward_call(*args, **kwargs)\n"
          ]
        },
        {
          "name": "stdout",
          "output_type": "stream",
          "text": [
            "💾 Chroma DB saved at vectordb2\n"
          ]
        }
      ],
      "source": [
        "import os, json\n",
        "from langchain_community.document_loaders import PyMuPDFLoader\n",
        "from langchain.text_splitter import RecursiveCharacterTextSplitter\n",
        "from langchain_huggingface import HuggingFaceEmbeddings\n",
        "from langchain_chroma import Chroma\n",
        "\n",
        "os.makedirs(\"chunks\", exist_ok=True)\n",
        "\n",
        "def save_chunks(chunks, filename=CHUNKS_JSON):\n",
        "    data = [{\"id\": f\"chunk_{i+1}\", \"text\": c.page_content, \"page\": c.metadata.get(\"page\")} for i, c in enumerate(chunks)]\n",
        "    with open(filename, \"w\", encoding=\"utf-8\") as f:\n",
        "        json.dump(data, f, ensure_ascii=False, indent=2)\n",
        "    print(f\"📂 Chunks saved to {filename}\")\n",
        "\n",
        "loader = PyMuPDFLoader(str(PDF_PATH))\n",
        "docs = loader.load()\n",
        "print(\"Pages detected:\", len(docs))\n",
        "\n",
        "splitter = RecursiveCharacterTextSplitter(chunk_size=CHUNK_SIZE, chunk_overlap=CHUNK_OVERLAP)\n",
        "chunks = splitter.split_documents(docs)\n",
        "print(\"Chunks created:\", len(chunks))\n",
        "save_chunks(chunks)\n",
        "\n",
        "embeddings = HuggingFaceEmbeddings(model_name=EMBED_MODEL)\n",
        "db = Chroma.from_documents(chunks, embedding=embeddings, persist_directory=str(CHROMA_PATH))\n",
        "print(f\"💾 Chroma DB saved at {CHROMA_PATH}\")"
      ]
    },
    {
      "cell_type": "code",
      "execution_count": 14,
      "metadata": {
        "id": "bULRez9GyOdM"
      },
      "outputs": [],
      "source": [
        "from langchain_core.prompts import PromptTemplate\n",
        "from langchain_ollama import ChatOllama\n",
        "\n",
        "PROMPT_TEMPLATE = \"\"\"\n",
        "You are an expert assistant helping to answer questions based on a document that describes\n",
        "a technical assignment for building a RAG-based chatbot.\n",
        "\n",
        "Use the provided context (retrieved chunks from the document) to answer the user query.\n",
        "If the context does not contain enough information, state clearly: \"The document does not\n",
        "provide this information.\"\n",
        "\n",
        "Instructions:\n",
        "- Answer in 2-4 clear sentences unless the question requires a detailed explanation.\n",
        "- Quote or paraphrase relevant parts of the document when possible.\n",
        "- Do not include information that is not supported by the context.\n",
        "\n",
        "Context:\n",
        "{context}\n",
        "\n",
        "User: {question}\n",
        "Answer:\n",
        "\"\"\"\n",
        "\n",
        "prompt = PromptTemplate(template=PROMPT_TEMPLATE, input_variables=[\"context\", \"question\"])\n",
        "llm = ChatOllama(model=\"llama3\", base_url=\"http://localhost:11434\")  # Ollama should be running locally\n",
        "\n",
        "def rag_answer(query):\n",
        "    docs = db.similarity_search(query, k=TOP_K)\n",
        "    context = \"\\n\\n\".join(d.page_content for d in docs)\n",
        "    final_prompt = prompt.format(context=context, question=query)\n",
        "    return llm.invoke(final_prompt).content, docs"
      ]
    },
    {
      "cell_type": "code",
      "execution_count": 15,
      "metadata": {
        "colab": {
          "base_uri": "https://localhost:8080/",
          "height": 408
        },
        "id": "xi1YueRxzdF1",
        "outputId": "31de369e-63a7-40cb-ade8-b5c0d5ce7641"
      },
      "outputs": [
        {
          "name": "stderr",
          "output_type": "stream",
          "text": [
            "d:\\amlgo_project\\amlgo\\lib\\site-packages\\torch\\nn\\modules\\module.py:1762: FutureWarning: `encoder_attention_mask` is deprecated and will be removed in version 4.55.0 for `BertSdpaSelfAttention.forward`.\n",
            "  return forward_call(*args, **kwargs)\n"
          ]
        },
        {
          "name": "stdout",
          "output_type": "stream",
          "text": [
            "According to the provided context, the User Agreement mentions two entities:\n",
            "\n",
            "* For users residing in the United States: eBay Inc., located at 2025 Hamilton Ave., San Jose, CA 95125.\n",
            "* For users residing in the UK: eBay (UK) Limited, located at 1 More London Place, London, SE1 2AF.\n",
            "\n",
            "These are mentioned in section \"The entity you are contracting with is:\" under the \"Introduction\" part of the User Agreement.\n",
            "Page: 6 -> to, buyers around the world. Many of our Services are accessible internationally. We offer certain \n",
            "programs, tools, and experiences of particular interest to international sellers and buyers, such as ...\n",
            "Page: 18 -> to act on behalf of such business and bind the business to this User Agreement. Such account is \n",
            "owned and controlled by the business entity. No agency, partnership, joint venture, employee-\n",
            "employer  ...\n",
            "Page: 0 -> User Agreement \n",
            "1. Introduction \n",
            "This User Agreement, the Mobile Application Terms of Use, and all policies and additional terms \n",
            "posted on and in our sites, applications, tools, and services (collect ...\n"
          ]
        }
      ],
      "source": [
        "ans, srcs = rag_answer(\"What entities does the User Agreement mention for different countries?\")\n",
        "print(ans)\n",
        "for s in srcs:\n",
        "    print(\"Page:\", s.metadata.get(\"page\"), \"->\", s.page_content[:200], \"...\")"
      ]
    },
    {
      "cell_type": "code",
      "execution_count": 16,
      "metadata": {
        "id": "mp2jixHUzpbJ"
      },
      "outputs": [
        {
          "name": "stderr",
          "output_type": "stream",
          "text": [
            "d:\\amlgo_project\\amlgo\\lib\\site-packages\\torch\\nn\\modules\\module.py:1762: FutureWarning: `encoder_attention_mask` is deprecated and will be removed in version 4.55.0 for `BertSdpaSelfAttention.forward`.\n",
            "  return forward_call(*args, **kwargs)\n"
          ]
        },
        {
          "name": "stdout",
          "output_type": "stream",
          "text": [
            "According to the document, if eBay believes a user is violating their policies or abusing the Services in any way, they may take various actions, including:\n",
            "\n",
            "* Limiting, restricting, suspending, or downgrading your seller account\n",
            "* Limiting or terminating your user account(s) and access to our Services\n",
            "* Delaying or removing hosted content\n",
            "* Removing special status associated with your account(s)\n",
            "* Reducing or eliminating any discounts\n",
            "* Taking technical and/or legal steps to prevent you from using our Services\n",
            "\n",
            "These actions are taken in eBay's sole discretion, without limiting other remedies.\n",
            "Page: 2 -> our Services or post content that does not belong to you; \n",
            "• \n",
            "commercialize any eBay application or any information, data, or software associated with \n",
            "such application, except with the prior express  ...\n",
            "Page: 1 -> are a person with whom transactions are prohibited under economic or trade sanctions; \n",
            "• \n",
            "fail to pay for items purchased by you, unless you have a valid reason as set out in an eBay \n",
            "policy, for exam ...\n",
            "Page: 2 -> Services in any way, we may, in our sole discretion and without limiting other remedies, limit, \n",
            "suspend, or terminate your user account(s) and access to our Services, delay or remove hosted \n",
            "content, ...\n"
          ]
        }
      ],
      "source": [
        "ans, srcs = rag_answer(\"What actions can eBay take if a user violates policies?\")\n",
        "print(ans)\n",
        "for s in srcs:\n",
        "    print(\"Page:\", s.metadata.get(\"page\"), \"->\", s.page_content[:200], \"...\")"
      ]
    },
    {
      "cell_type": "code",
      "execution_count": 17,
      "metadata": {},
      "outputs": [
        {
          "name": "stderr",
          "output_type": "stream",
          "text": [
            "d:\\amlgo_project\\amlgo\\lib\\site-packages\\torch\\nn\\modules\\module.py:1762: FutureWarning: `encoder_attention_mask` is deprecated and will be removed in version 4.55.0 for `BertSdpaSelfAttention.forward`.\n",
            "  return forward_call(*args, **kwargs)\n"
          ]
        },
        {
          "name": "stdout",
          "output_type": "stream",
          "text": [
            "This document appears to be an agreement to arbitrate, specifically outlining the terms and conditions for resolving disputes through arbitration. The document describes a process called \"Batch Arbitration\" which involves batching together similar demands or claims, appointing arbitrators for each batch, and resolving each batch on a consolidated basis with one set of filing and administrative fees.\n",
            "Page: 16 -> resolution of discovery disputes; and (2) the adoption of an expedited calendar of the \n",
            "arbitration proceedings. This Batch Arbitration provision shall in no way be interpreted as \n",
            "authorizing a class ...\n",
            "Page: 16 -> after the batching described above, a final batch consisting of the remaining Demands); (2) \n",
            "appoint one arbitrator for each batch; and (3) provide for the resolution of each batch on a \n",
            "consolidated  ...\n",
            "Page: 13 -> IS AVAILABLE. Subject to this Agreement to Arbitrate, the arbitrator may award declaratory \n",
            "or injunctive relief only in favor of the individual party seeking relief and only to the extent \n",
            "necessary  ...\n"
          ]
        }
      ],
      "source": [
        "ans, srcs = rag_answer(\"what is this doc about\")\n",
        "print(ans)\n",
        "for s in srcs:\n",
        "    print(\"Page:\", s.metadata.get(\"page\"), \"->\", s.page_content[:200], \"...\")"
      ]
    },
    {
      "cell_type": "code",
      "execution_count": null,
      "metadata": {},
      "outputs": [],
      "source": []
    }
  ],
  "metadata": {
    "colab": {
      "provenance": []
    },
    "kernelspec": {
      "display_name": "amlgo",
      "language": "python",
      "name": "python3"
    },
    "language_info": {
      "codemirror_mode": {
        "name": "ipython",
        "version": 3
      },
      "file_extension": ".py",
      "mimetype": "text/x-python",
      "name": "python",
      "nbconvert_exporter": "python",
      "pygments_lexer": "ipython3",
      "version": "3.9.13"
    }
  },
  "nbformat": 4,
  "nbformat_minor": 0
}
